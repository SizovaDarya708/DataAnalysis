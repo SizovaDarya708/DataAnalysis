{
 "cells": [
  {
   "cell_type": "markdown",
   "metadata": {},
   "source": [
    "# Моделирование ЦМ. Свойств ЦМ. Стационарные распределения "
   ]
  },
  {
   "cell_type": "code",
   "execution_count": 3,
   "metadata": {},
   "outputs": [],
   "source": [
    "import quantecon as qe\n",
    "import numpy as np\n",
    "from mpl_toolkits.mplot3d import Axes3D\n",
    "import matplotlib.pyplot as plt\n",
    "%matplotlib inline\n",
    "\n",
    "# документация для ЦМ\n",
    "# https://quanteconpy.readthedocs.io/en/stable/markov/core.html"
   ]
  },
  {
   "cell_type": "code",
   "execution_count": 2,
   "metadata": {
    "scrolled": true
   },
   "outputs": [
    {
     "name": "stdout",
     "output_type": "stream",
     "text": [
      "Collecting quantecon\n",
      "  Downloading https://files.pythonhosted.org/packages/72/15/7649ba1f5ad5adc78efbda71d5f1dd15f0edf4a0dead41ba048b7d7e5335/quantecon-0.4.7-py3-none-any.whl (229kB)\n",
      "Requirement already satisfied: requests in c:\\users\\darya\\anaconda3\\lib\\site-packages (from quantecon) (2.22.0)\n",
      "Requirement already satisfied: sympy in c:\\users\\darya\\anaconda3\\lib\\site-packages (from quantecon) (1.4)\n",
      "Requirement already satisfied: numpy in c:\\users\\darya\\anaconda3\\lib\\site-packages (from quantecon) (1.16.4)\n",
      "Requirement already satisfied: numba>=0.38 in c:\\users\\darya\\anaconda3\\lib\\site-packages (from quantecon) (0.44.1)\n",
      "Requirement already satisfied: scipy>=1.0.0 in c:\\users\\darya\\anaconda3\\lib\\site-packages (from quantecon) (1.2.1)\n",
      "Requirement already satisfied: certifi>=2017.4.17 in c:\\users\\darya\\anaconda3\\lib\\site-packages (from requests->quantecon) (2020.4.5.1)\n",
      "Requirement already satisfied: idna<2.9,>=2.5 in c:\\users\\darya\\anaconda3\\lib\\site-packages (from requests->quantecon) (2.8)\n",
      "Requirement already satisfied: urllib3!=1.25.0,!=1.25.1,<1.26,>=1.21.1 in c:\\users\\darya\\anaconda3\\lib\\site-packages (from requests->quantecon) (1.24.2)\n",
      "Requirement already satisfied: chardet<3.1.0,>=3.0.2 in c:\\users\\darya\\anaconda3\\lib\\site-packages (from requests->quantecon) (3.0.4)\n",
      "Requirement already satisfied: mpmath>=0.19 in c:\\users\\darya\\anaconda3\\lib\\site-packages (from sympy->quantecon) (1.1.0)\n",
      "Requirement already satisfied: llvmlite>=0.29.0 in c:\\users\\darya\\anaconda3\\lib\\site-packages (from numba>=0.38->quantecon) (0.29.0)\n",
      "Installing collected packages: quantecon\n",
      "Successfully installed quantecon-0.4.7\n",
      "Note: you may need to restart the kernel to use updated packages.\n"
     ]
    }
   ],
   "source": [
    "pip install quantecon"
   ]
  },
  {
   "attachments": {
    "image.png": {
     "image/png": "[encoded data removed]"
    }
   },
   "cell_type": "markdown",
   "metadata": {},
   "source": [
    "1)Классифицировать состояния ЦМ\n",
    "![image.png](attachment:image.png)"
   ]
  },
  {
   "cell_type": "code",
   "execution_count": 14,
   "metadata": {},
   "outputs": [],
   "source": [
    "P = [[0.25, 0.25, 0.0, 0.0, 0.5],\n",
    "     [1/3, 0.0, 1/3, 1/3, 0.0],\n",
    "      [1/2, 0.0, 0.0, 0.0, 1/2],\n",
    "      [0.0, 0.0, 0.0, 1/2, 1/2],\n",
    "     [0.0, 0.0, 0.0, 1, 0.0]]"
   ]
  },
  {
   "cell_type": "code",
   "execution_count": 15,
   "metadata": {},
   "outputs": [],
   "source": [
    "mc1 = qe.MarkovChain(P)"
   ]
  },
  {
   "cell_type": "code",
   "execution_count": 16,
   "metadata": {},
   "outputs": [
    {
     "name": "stdout",
     "output_type": "stream",
     "text": [
      "<bound method MarkovChain.__repr__ of Markov chain with transition matrix \n",
      "P = \n",
      "[[0.25       0.25       0.         0.         0.5       ]\n",
      " [0.33333333 0.         0.33333333 0.33333333 0.        ]\n",
      " [0.5        0.         0.         0.         0.5       ]\n",
      " [0.         0.         0.         0.5        0.5       ]\n",
      " [0.         0.         0.         1.         0.        ]]>\n"
     ]
    }
   ],
   "source": [
    "print(mc1)"
   ]
  },
  {
   "cell_type": "markdown",
   "metadata": {},
   "source": [
    "Классификация: стохастическая матрица  𝑃  is называется неприводимой(неразложимой) если все состояния сообщающиеся, то есть  в конечном итоге мы можем достичь любого состояния из любого другого состояния. - **неразложима**\n"
   ]
  },
  {
   "cell_type": "code",
   "execution_count": 17,
   "metadata": {},
   "outputs": [
    {
     "data": {
      "text/plain": [
       "False"
      ]
     },
     "execution_count": 17,
     "metadata": {},
     "output_type": "execute_result"
    }
   ],
   "source": [
    "mc1.is_irreducible"
   ]
  },
  {
   "cell_type": "markdown",
   "metadata": {},
   "source": [
    "сообщающиеся классы - их **2** "
   ]
  },
  {
   "cell_type": "code",
   "execution_count": 18,
   "metadata": {},
   "outputs": [
    {
     "data": {
      "text/plain": [
       "2"
      ]
     },
     "execution_count": 18,
     "metadata": {},
     "output_type": "execute_result"
    }
   ],
   "source": [
    "mc1.num_communication_classes"
   ]
  },
  {
   "cell_type": "code",
   "execution_count": 19,
   "metadata": {},
   "outputs": [
    {
     "data": {
      "text/plain": [
       "[array([3, 4], dtype=int64), array([0, 1, 2], dtype=int64)]"
      ]
     },
     "execution_count": 19,
     "metadata": {},
     "output_type": "execute_result"
    }
   ],
   "source": [
    "mc1.communication_classes"
   ]
  },
  {
   "cell_type": "code",
   "execution_count": 20,
   "metadata": {
    "scrolled": true
   },
   "outputs": [
    {
     "data": {
      "text/plain": [
       "[array([3, 4], dtype=int64)]"
      ]
     },
     "execution_count": 20,
     "metadata": {},
     "output_type": "execute_result"
    }
   ],
   "source": [
    "mc1.recurrent_classes"
   ]
  },
  {
   "cell_type": "code",
   "execution_count": 25,
   "metadata": {},
   "outputs": [
    {
     "data": {
      "text/plain": [
       "array([[0.        , 0.        , 0.        , 0.66666667, 0.33333333]])"
      ]
     },
     "execution_count": 25,
     "metadata": {},
     "output_type": "execute_result"
    }
   ],
   "source": [
    "mc1.stationary_distributions"
   ]
  },
  {
   "cell_type": "markdown",
   "metadata": {},
   "source": [
    "Периодичность"
   ]
  },
  {
   "cell_type": "code",
   "execution_count": 35,
   "metadata": {},
   "outputs": [
    {
     "data": {
      "text/plain": [
       "1"
      ]
     },
     "execution_count": 35,
     "metadata": {},
     "output_type": "execute_result"
    }
   ],
   "source": [
    "mc1.period"
   ]
  },
  {
   "attachments": {
    "image.png": {
     "image/png": "[encoded data removed]"
    }
   },
   "cell_type": "markdown",
   "metadata": {},
   "source": [
    "2) Классифицировать состояния ЦМ\n",
    "![image.png](attachment:image.png)"
   ]
  },
  {
   "cell_type": "code",
   "execution_count": 5,
   "metadata": {},
   "outputs": [],
   "source": [
    "P2 = [[1/3, 2/3, 0.0, 0.0, 0.0, 0.0],\n",
    "     [2/3, 1/3, 0.0, 0.0, 0.0, 0.0],\n",
    "      [ 0.0, 0.0, 1/4, 3/4, 0.0, 0.0],\n",
    "      [0.0, 0.0, 1/5, 4/5, 0.0, 0.0],\n",
    "      [1/4, 0.0, 1/4, 0.0, 1/4, 1/4],\n",
    "     [1/6, 1/6, 1/6, 1/6, 1/6, 1/6]]"
   ]
  },
  {
   "cell_type": "code",
   "execution_count": 6,
   "metadata": {},
   "outputs": [],
   "source": [
    "mc2 = qe.MarkovChain(P2)"
   ]
  },
  {
   "cell_type": "code",
   "execution_count": 7,
   "metadata": {
    "scrolled": true
   },
   "outputs": [
    {
     "name": "stdout",
     "output_type": "stream",
     "text": [
      "<bound method MarkovChain.__repr__ of Markov chain with transition matrix \n",
      "P = \n",
      "[[0.33333333 0.66666667 0.         0.         0.         0.        ]\n",
      " [0.66666667 0.33333333 0.         0.         0.         0.        ]\n",
      " [0.         0.         0.25       0.75       0.         0.        ]\n",
      " [0.         0.         0.2        0.8        0.         0.        ]\n",
      " [0.25       0.         0.25       0.         0.25       0.25      ]\n",
      " [0.16666667 0.16666667 0.16666667 0.16666667 0.16666667 0.16666667]]>\n"
     ]
    }
   ],
   "source": [
    "print(mc2)"
   ]
  },
  {
   "cell_type": "code",
   "execution_count": 9,
   "metadata": {},
   "outputs": [
    {
     "data": {
      "text/plain": [
       "False"
      ]
     },
     "execution_count": 9,
     "metadata": {},
     "output_type": "execute_result"
    }
   ],
   "source": [
    "mc2.is_irreducible"
   ]
  },
  {
   "cell_type": "code",
   "execution_count": 11,
   "metadata": {},
   "outputs": [
    {
     "data": {
      "text/plain": [
       "3"
      ]
     },
     "execution_count": 11,
     "metadata": {},
     "output_type": "execute_result"
    }
   ],
   "source": [
    "mc2.num_communication_classes"
   ]
  },
  {
   "cell_type": "code",
   "execution_count": 13,
   "metadata": {},
   "outputs": [
    {
     "data": {
      "text/plain": [
       "[array([0, 1], dtype=int64), array([2, 3], dtype=int64)]"
      ]
     },
     "execution_count": 13,
     "metadata": {},
     "output_type": "execute_result"
    }
   ],
   "source": [
    "mc2.recurrent_classes"
   ]
  },
  {
   "cell_type": "code",
   "execution_count": 26,
   "metadata": {},
   "outputs": [
    {
     "data": {
      "text/plain": [
       "array([[0.5       , 0.5       , 0.        , 0.        , 0.        ,\n",
       "        0.        ],\n",
       "       [0.        , 0.        , 0.21052632, 0.78947368, 0.        ,\n",
       "        0.        ]])"
      ]
     },
     "execution_count": 26,
     "metadata": {},
     "output_type": "execute_result"
    }
   ],
   "source": [
    "mc2.stationary_distributions"
   ]
  },
  {
   "cell_type": "code",
   "execution_count": 36,
   "metadata": {},
   "outputs": [
    {
     "data": {
      "text/plain": [
       "1"
      ]
     },
     "execution_count": 36,
     "metadata": {},
     "output_type": "execute_result"
    }
   ],
   "source": [
    "mc2.period"
   ]
  },
  {
   "attachments": {
    "image.png": {
     "image/png": "[encoded data removed]"
    }
   },
   "cell_type": "markdown",
   "metadata": {},
   "source": [
    "5)Рассмотрим состояния банка, характеризующиеся одной из процентных ставок: 12%, 13%, 14%, которые устанавливаются в начале каждого квартала и фиксированы на всем его протяжении. Таким образом,  если за систему S принять действующую процентную ставку, то она в каждый момент времени может находиться только в одном из состояний: s1 – процентная ставка  12%,  s2 – процентная ставка  13%,  s3 – процентная ставка  14%.  Анализ работы банка в предшествующие годы показал, что изменение переходных вероятностей с течением времени пренебрежимо мало. Определить распределение вероятностей состояний системы в конце года, если в конце предыдущего года процентная ставка составила 13%, а граф вероятностей переходов имеетвид\n",
    "![image.png](attachment:image.png)\n",
    "\n"
   ]
  },
  {
   "cell_type": "markdown",
   "metadata": {},
   "source": [
    "Матрица переходных вероятностей"
   ]
  },
  {
   "cell_type": "code",
   "execution_count": 47,
   "metadata": {},
   "outputs": [],
   "source": [
    "P3 = np.array([[0.4, 0.4, 0.2],\n",
    "     [0.2, 0.5, 0.3],\n",
    "     [0.1, 0.3, 0.6]])"
   ]
  },
  {
   "cell_type": "markdown",
   "metadata": {},
   "source": [
    "Вычислим вектор начального распределения"
   ]
  },
  {
   "cell_type": "code",
   "execution_count": 39,
   "metadata": {},
   "outputs": [
    {
     "data": {
      "text/plain": [
       "array([[0.2, 0.4, 0.4]])"
      ]
     },
     "execution_count": 39,
     "metadata": {},
     "output_type": "execute_result"
    }
   ],
   "source": [
    "mc = qe.MarkovChain(P3)\n",
    "mc.stationary_distributions\n",
    "\n"
   ]
  },
  {
   "cell_type": "markdown",
   "metadata": {},
   "source": [
    "Проверим периодичность"
   ]
  },
  {
   "cell_type": "code",
   "execution_count": 40,
   "metadata": {},
   "outputs": [
    {
     "data": {
      "text/plain": [
       "True"
      ]
     },
     "execution_count": 40,
     "metadata": {},
     "output_type": "execute_result"
    }
   ],
   "source": [
    "mc.is_aperiodic"
   ]
  },
  {
   "cell_type": "markdown",
   "metadata": {},
   "source": [
    "Посмотрим кол-во периодов"
   ]
  },
  {
   "cell_type": "code",
   "execution_count": 43,
   "metadata": {},
   "outputs": [
    {
     "data": {
      "text/plain": [
       "1"
      ]
     },
     "execution_count": 43,
     "metadata": {},
     "output_type": "execute_result"
    }
   ],
   "source": [
    "mc.period"
   ]
  },
  {
   "cell_type": "code",
   "execution_count": 50,
   "metadata": {},
   "outputs": [],
   "source": [
    "p = np.array([[0.1, 0.0, 0.8],\n",
    "     [0.7, 0.2, 0.1],\n",
    "     [0.2, 0.8, 0.0]])"
   ]
  },
  {
   "cell_type": "code",
   "execution_count": 51,
   "metadata": {},
   "outputs": [
    {
     "data": {
      "text/plain": [
       "array([0.38, 0.4 , 0.2 ])"
      ]
     },
     "execution_count": 51,
     "metadata": {},
     "output_type": "execute_result"
    }
   ],
   "source": [
    "ψ = (0.2, 0.4, 0.4)\n",
    "y=ψ @ p\n",
    "y"
   ]
  },
  {
   "cell_type": "markdown",
   "metadata": {},
   "source": [
    "7) Визуализировать  графовые моделеи (networkX) для данного блокнота"
   ]
  },
  {
   "cell_type": "code",
   "execution_count": 59,
   "metadata": {},
   "outputs": [
    {
     "name": "stdout",
     "output_type": "stream",
     "text": [
      "Collecting package metadata (current_repodata.json): ...working... done\n",
      "Solving environment: ...working... done\n",
      "\n",
      "## Package Plan ##\n",
      "\n",
      "  environment location: C:\\Users\\darya\\Anaconda3\n",
      "\n",
      "  added / updated specs:\n",
      "    - networkx\n",
      "\n",
      "\n",
      "The following packages will be downloaded:\n",
      "\n",
      "    package                    |            build\n",
      "    ---------------------------|-----------------\n",
      "    ca-certificates-2020.1.1   |                0         125 KB\n",
      "    conda-4.8.3                |           py37_0         2.8 MB\n",
      "    networkx-2.4               |             py_0         1.2 MB\n",
      "    ------------------------------------------------------------\n",
      "                                           Total:         4.1 MB\n",
      "\n",
      "The following packages will be UPDATED:\n",
      "\n",
      "  networkx                                         2.3-py_0 --> 2.4-py_0\n",
      "\n",
      "The following packages will be SUPERSEDED by a higher-priority channel:\n",
      "\n",
      "  ca-certificates    conda-forge::ca-certificates-2020.4.5~ --> pkgs/main::ca-certificates-2020.1.1-0\n",
      "  conda              conda-forge::conda-4.8.3-py37hc8dfbb8~ --> pkgs/main::conda-4.8.3-py37_0\n",
      "\n",
      "\n",
      "\n",
      "Downloading and Extracting Packages\n",
      "\n",
      "ca-certificates-2020 | 125 KB    |            |   0% \n",
      "ca-certificates-2020 | 125 KB    | #2         |  13% \n",
      "ca-certificates-2020 | 125 KB    | ###8       |  38% \n",
      "ca-certificates-2020 | 125 KB    | ########9  |  89% \n",
      "ca-certificates-2020 | 125 KB    | ########## | 100% \n",
      "\n",
      "conda-4.8.3          | 2.8 MB    |            |   0% \n",
      "conda-4.8.3          | 2.8 MB    |            |   1% \n",
      "conda-4.8.3          | 2.8 MB    | 5          |   5% \n",
      "conda-4.8.3          | 2.8 MB    | 8          |   9% \n",
      "conda-4.8.3          | 2.8 MB    | #5         |  16% \n",
      "conda-4.8.3          | 2.8 MB    | ##2        |  23% \n",
      "conda-4.8.3          | 2.8 MB    | ###1       |  32% \n",
      "conda-4.8.3          | 2.8 MB    | ####       |  40% \n",
      "conda-4.8.3          | 2.8 MB    | ####6      |  47% \n",
      "conda-4.8.3          | 2.8 MB    | #####2     |  52% \n",
      "conda-4.8.3          | 2.8 MB    | #####7     |  57% \n",
      "conda-4.8.3          | 2.8 MB    | ######1    |  62% \n",
      "conda-4.8.3          | 2.8 MB    | ######5    |  66% \n",
      "conda-4.8.3          | 2.8 MB    | #######1   |  71% \n",
      "conda-4.8.3          | 2.8 MB    | #######6   |  76% \n",
      "conda-4.8.3          | 2.8 MB    | ########   |  81% \n",
      "conda-4.8.3          | 2.8 MB    | ########5  |  85% \n",
      "conda-4.8.3          | 2.8 MB    | ########9  |  90% \n",
      "conda-4.8.3          | 2.8 MB    | #########4 |  94% \n",
      "conda-4.8.3          | 2.8 MB    | #########8 |  98% \n",
      "conda-4.8.3          | 2.8 MB    | ########## | 100% \n",
      "\n",
      "networkx-2.4         | 1.2 MB    |            |   0% \n",
      "networkx-2.4         | 1.2 MB    | 1          |   1% \n",
      "networkx-2.4         | 1.2 MB    | #4         |  15% \n",
      "networkx-2.4         | 1.2 MB    | ##         |  20% \n",
      "networkx-2.4         | 1.2 MB    | ###        |  31% \n",
      "networkx-2.4         | 1.2 MB    | ###8       |  39% \n",
      "networkx-2.4         | 1.2 MB    | ####5      |  45% \n",
      "networkx-2.4         | 1.2 MB    | #####3     |  53% \n",
      "networkx-2.4         | 1.2 MB    | ######1    |  62% \n",
      "networkx-2.4         | 1.2 MB    | ######9    |  70% \n",
      "networkx-2.4         | 1.2 MB    | #######7   |  78% \n",
      "networkx-2.4         | 1.2 MB    | ########5  |  86% \n",
      "networkx-2.4         | 1.2 MB    | #########3 |  94% \n",
      "networkx-2.4         | 1.2 MB    | ########## | 100% \n",
      "Preparing transaction: ...working... done\n",
      "Verifying transaction: ...working... done\n",
      "Executing transaction: ...working... done\n",
      "\n",
      "Note: you may need to restart the kernel to use updated packages.\n"
     ]
    }
   ],
   "source": [
    "conda install networkx"
   ]
  },
  {
   "cell_type": "code",
   "execution_count": 70,
   "metadata": {},
   "outputs": [],
   "source": [
    "import itertools\n",
    "\n",
    "import networkx as nx\n",
    "import numpy.random as rnd\n",
    "import matplotlib.pyplot as plt"
   ]
  },
  {
   "cell_type": "code",
   "execution_count": 71,
   "metadata": {},
   "outputs": [
    {
     "data": {
      "text/plain": [
       "<networkx.classes.graph.Graph at 0x1c6f829f240>"
      ]
     },
     "execution_count": 71,
     "metadata": {},
     "output_type": "execute_result"
    }
   ],
   "source": [
    "graph = nx.Graph()\n",
    "\n",
    "graph"
   ]
  },
  {
   "cell_type": "code",
   "execution_count": 72,
   "metadata": {},
   "outputs": [
    {
     "data": {
      "text/plain": [
       "NodeView(('A', 'B', 'C'))"
      ]
     },
     "execution_count": 72,
     "metadata": {},
     "output_type": "execute_result"
    }
   ],
   "source": [
    "graph.add_node('A')\n",
    "graph.add_node('B')\n",
    "graph.add_node('C')\n",
    "\n",
    "graph.nodes()"
   ]
  },
  {
   "cell_type": "code",
   "execution_count": 73,
   "metadata": {},
   "outputs": [],
   "source": [
    "def add_edge(f_item, s_item, graph=None):\n",
    "  graph.add_edge(f_item, s_item)\n",
    "  graph.add_edge(s_item, f_item) "
   ]
  },
  {
   "cell_type": "code",
   "execution_count": 74,
   "metadata": {},
   "outputs": [
    {
     "data": {
      "image/png": "[encoded data removed]",
      "text/plain": [
       "<Figure size 432x288 with 1 Axes>"
      ]
     },
     "metadata": {},
     "output_type": "display_data"
    }
   ],
   "source": [
    "add_edge('A', 'B', graph=graph)\n",
    "add_edge('B', 'C', graph=graph)\n",
    "add_edge('B', 'D', graph=graph)\n",
    "add_edge('D', 'E', graph=graph)\n",
    "\n",
    "nx.draw_circular(graph,\n",
    "         node_color='red',\n",
    "         node_size=1000,\n",
    "         with_labels=True)"
   ]
  },
  {
   "cell_type": "code",
   "execution_count": 75,
   "metadata": {},
   "outputs": [],
   "source": [
    "cities = {'A':(0, 20),\n",
    "     'B':(15, 24),\n",
    "     'C':(16, 41),\n",
    "     'D':(10, 40)}\n",
    "\n",
    "graph = nx.Graph()\n",
    "graph.add_nodes_from(cities)"
   ]
  },
  {
   "cell_type": "code",
   "execution_count": 76,
   "metadata": {},
   "outputs": [],
   "source": [
    "kilometres = {('A', 'B', 15),\n",
    "              ('B', 'C', 16),\n",
    "              ('B', 'D', 25),\n",
    "              ('C', 'D', 14),\n",
    "              ('D', 'A', 18)}\n",
    "\n",
    "graph.add_weighted_edges_from(kilometres)"
   ]
  },
  {
   "cell_type": "code",
   "execution_count": 77,
   "metadata": {},
   "outputs": [
    {
     "data": {
      "image/png": "[encoded data removed]",
      "text/plain": [
       "<Figure size 432x288 with 1 Axes>"
      ]
     },
     "metadata": {},
     "output_type": "display_data"
    }
   ],
   "source": [
    "nx.draw_circular(graph,\n",
    "         node_color='red',\n",
    "         node_size=1000,\n",
    "         with_labels=True)"
   ]
  },
  {
   "cell_type": "code",
   "execution_count": 69,
   "metadata": {},
   "outputs": [
    {
     "name": "stdout",
     "output_type": "stream",
     "text": [
      "Collecting package metadata (current_repodata.json): ...working... done\n",
      "Solving environment: ...working... done\n",
      "\n",
      "# All requested packages already installed.\n",
      "\n",
      "\n",
      "Note: you may need to restart the kernel to use updated packages.\n"
     ]
    }
   ],
   "source": [
    "conda install Matplotlib"
   ]
  },
  {
   "cell_type": "code",
   "execution_count": null,
   "metadata": {},
   "outputs": [],
   "source": []
  }
 ],
 "metadata": {
  "kernelspec": {
   "display_name": "Python 3",
   "language": "python",
   "name": "python3"
  },
  "language_info": {
   "codemirror_mode": {
    "name": "ipython",
    "version": 3
   },
   "file_extension": ".py",
   "mimetype": "text/x-python",
   "name": "python",
   "nbconvert_exporter": "python",
   "pygments_lexer": "ipython3",
   "version": "3.7.3"
  }
 },
 "nbformat": 4,
 "nbformat_minor": 2
}
